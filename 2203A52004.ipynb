{
  "nbformat": 4,
  "nbformat_minor": 0,
  "metadata": {
    "colab": {
      "provenance": [],
      "authorship_tag": "ABX9TyPWesTZzM13XQqRfdd1Ml+r",
      "include_colab_link": true
    },
    "kernelspec": {
      "name": "python3",
      "display_name": "Python 3"
    },
    "language_info": {
      "name": "python"
    }
  },
  "cells": [
    {
      "cell_type": "markdown",
      "metadata": {
        "id": "view-in-github",
        "colab_type": "text"
      },
      "source": [
        "<a href=\"https://colab.research.google.com/github/Nithisha06/2203A52004/blob/main/2203A52004.ipynb\" target=\"_parent\"><img src=\"https://colab.research.google.com/assets/colab-badge.svg\" alt=\"Open In Colab\"/></a>"
      ]
    },
    {
      "cell_type": "code",
      "execution_count": 3,
      "metadata": {
        "id": "8R7u3y7lJyuB"
      },
      "outputs": [],
      "source": [
        "# Lists\n",
        "list1 = [1, 5, 6, 2, 9]\n",
        "list2 = [3, 4, 8, 7, 10]"
      ]
    },
    {
      "cell_type": "code",
      "source": [
        "print(list1)\n",
        "print(list2)"
      ],
      "metadata": {
        "colab": {
          "base_uri": "https://localhost:8080/"
        },
        "id": "00Qq1wHsKQua",
        "outputId": "c2a6504a-092e-4c79-f1ae-30ea1a67a26e"
      },
      "execution_count": 28,
      "outputs": [
        {
          "output_type": "stream",
          "name": "stdout",
          "text": [
            "[1, 5, 6, 2, 9]\n",
            "[3, 4, 8, 7, 10]\n"
          ]
        }
      ]
    },
    {
      "cell_type": "code",
      "source": [
        "import numpy as np\n",
        "import pandas as pd"
      ],
      "metadata": {
        "id": "Vm-9G4WMJ0t6"
      },
      "execution_count": 4,
      "outputs": []
    },
    {
      "cell_type": "code",
      "source": [
        "#Arrays\n",
        "array1 = np.array(list1)\n",
        "array2 = np.array(list2)"
      ],
      "metadata": {
        "id": "VvWfj0ngJ6Mv"
      },
      "execution_count": 7,
      "outputs": []
    },
    {
      "cell_type": "code",
      "source": [
        "print(array1)\n",
        "print(array2)"
      ],
      "metadata": {
        "colab": {
          "base_uri": "https://localhost:8080/"
        },
        "id": "R5EqqiOVKekM",
        "outputId": "2bd3d66b-f50e-4f52-8ca6-ccc9bff0ddb2"
      },
      "execution_count": 14,
      "outputs": [
        {
          "output_type": "stream",
          "name": "stdout",
          "text": [
            "[1 5 6 2 9]\n",
            "[ 3  4  8  7 10]\n"
          ]
        }
      ]
    },
    {
      "cell_type": "code",
      "source": [
        "print(type(array1))\n",
        "print(type(array2))"
      ],
      "metadata": {
        "colab": {
          "base_uri": "https://localhost:8080/"
        },
        "id": "Wewg5YqwLBaV",
        "outputId": "a675d7c2-a372-4969-f7d6-b1b87666bc9a"
      },
      "execution_count": 15,
      "outputs": [
        {
          "output_type": "stream",
          "name": "stdout",
          "text": [
            "<class 'numpy.ndarray'>\n",
            "<class 'numpy.ndarray'>\n"
          ]
        }
      ]
    },
    {
      "cell_type": "code",
      "source": [
        "#Arthimatic Operations\n",
        "multiply=array1*array2\n",
        "divide=array2/array1\n",
        "poweroff=np.power(array1,array2)\n",
        "print(\"Multiplication:\",multiply)\n",
        "print(\"Division:\",divide)\n",
        "print(\"Poweroff:\",poweroff)"
      ],
      "metadata": {
        "colab": {
          "base_uri": "https://localhost:8080/"
        },
        "id": "IXWNb-nXMSlI",
        "outputId": "9b6a7fda-48fd-4a90-d731-973963e28866"
      },
      "execution_count": 20,
      "outputs": [
        {
          "output_type": "stream",
          "name": "stdout",
          "text": [
            "Multiplication: [ 3 20 48 14 90]\n",
            "Division: [3.         0.8        1.33333333 3.5        1.11111111]\n",
            "Poweroff: [         1        625    1679616        128 3486784401]\n"
          ]
        }
      ]
    },
    {
      "cell_type": "code",
      "source": [
        "#combining Text with Numpy function\n",
        "print(np.array(list1+list2))"
      ],
      "metadata": {
        "colab": {
          "base_uri": "https://localhost:8080/"
        },
        "id": "GNQMoqvUMv87",
        "outputId": "d44e841c-679d-4825-cf03-de1a7140efb6"
      },
      "execution_count": 23,
      "outputs": [
        {
          "output_type": "stream",
          "name": "stdout",
          "text": [
            "[ 1  5  6  2  9  3  4  8  7 10]\n"
          ]
        }
      ]
    },
    {
      "cell_type": "code",
      "source": [
        "# Trigonometric and Exponential Functions\n",
        "print(\"Sin Result:\",np.sin(array1))\n",
        "print(\"Log Result:\",np.log(array1))\n",
        "print(\"Log2 Result:\",np.log2(array1))\n",
        "print(\"Exponential Result:\",np.exp(array1))"
      ],
      "metadata": {
        "colab": {
          "base_uri": "https://localhost:8080/"
        },
        "id": "lIWW65AuOA05",
        "outputId": "e4ebaf95-9135-42d3-93fd-fbe282315042"
      },
      "execution_count": 27,
      "outputs": [
        {
          "output_type": "stream",
          "name": "stdout",
          "text": [
            "Sin Result: [ 0.84147098 -0.95892427 -0.2794155   0.90929743  0.41211849]\n",
            "Log Result: [0.         1.60943791 1.79175947 0.69314718 2.19722458]\n",
            "Log2 Result: [0.         2.32192809 2.5849625  1.         3.169925  ]\n",
            "Exponential Result: [2.71828183e+00 1.48413159e+02 4.03428793e+02 7.38905610e+00\n",
            " 8.10308393e+03]\n"
          ]
        }
      ]
    },
    {
      "cell_type": "code",
      "source": [
        "people = ['kiran', 'arun', 'vijay', 'varun']\n",
        "age =[25, 30, 35, 40]\n",
        "height =[145, 151, 165, 173]\n",
        "weight=[45, 55, 65, 75]"
      ],
      "metadata": {
        "id": "TiCU-qhJOyXQ"
      },
      "execution_count": 35,
      "outputs": []
    },
    {
      "cell_type": "code",
      "source": [
        "import matplotlib.pyplot as plt\n"
      ],
      "metadata": {
        "id": "I3nMJg3ORb-O"
      },
      "execution_count": 36,
      "outputs": []
    },
    {
      "cell_type": "code",
      "source": [
        "# Scatter plot\n",
        "plt.scatter(people, height, c='red', alpha=0.5)\n",
        "plt.title(\"Scatter Plot\")\n",
        "plt.xlabel('People')\n",
        "plt.ylabel('Height')"
      ],
      "metadata": {
        "colab": {
          "base_uri": "https://localhost:8080/",
          "height": 489
        },
        "id": "ywwOCiejSmww",
        "outputId": "bf13c8b2-6ffd-4e91-b434-a482d85d0de3"
      },
      "execution_count": 59,
      "outputs": [
        {
          "output_type": "execute_result",
          "data": {
            "text/plain": [
              "Text(0, 0.5, 'Height')"
            ]
          },
          "metadata": {},
          "execution_count": 59
        },
        {
          "output_type": "display_data",
          "data": {
            "text/plain": [
              "<Figure size 640x480 with 1 Axes>"
            ],
            "image/png": "[encoded data removed]"
          },
          "metadata": {}
        }
      ]
    },
    {
      "cell_type": "code",
      "source": [
        "plt.bar(people,age)\n",
        "plt.title(\"Bar Graph\")\n",
        "plt.xlabel('People')\n",
        "plt.ylabel('Age')"
      ],
      "metadata": {
        "colab": {
          "base_uri": "https://localhost:8080/",
          "height": 489
        },
        "id": "8Qq47-BUU5wd",
        "outputId": "cb5baee8-00b6-4d76-f79a-289f25a7c3b9"
      },
      "execution_count": 60,
      "outputs": [
        {
          "output_type": "execute_result",
          "data": {
            "text/plain": [
              "Text(0, 0.5, 'Age')"
            ]
          },
          "metadata": {},
          "execution_count": 60
        },
        {
          "output_type": "display_data",
          "data": {
            "text/plain": [
              "<Figure size 640x480 with 1 Axes>"
            ],
            "image/png": "[encoded data removed]"
          },
          "metadata": {}
        }
      ]
    },
    {
      "cell_type": "code",
      "source": [
        "plt.hist(weight,color='violet')\n",
        "plt.title('Weights Histogram')\n",
        "plt.xlabel('Weights')"
      ],
      "metadata": {
        "colab": {
          "base_uri": "https://localhost:8080/",
          "height": 489
        },
        "id": "y5qrV5MKVSyD",
        "outputId": "26aa81ef-db5f-49bb-c8a8-c5a0334b21dd"
      },
      "execution_count": 61,
      "outputs": [
        {
          "output_type": "execute_result",
          "data": {
            "text/plain": [
              "Text(0.5, 0, 'Weights')"
            ]
          },
          "metadata": {},
          "execution_count": 61
        },
        {
          "output_type": "display_data",
          "data": {
            "text/plain": [
              "<Figure size 640x480 with 1 Axes>"
            ],
            "image/png": "[encoded data removed]"
          },
          "metadata": {}
        }
      ]
    },
    {
      "cell_type": "code",
      "source": [
        "#Dataset\n",
        "StudentName=['Reena','Ramya','Abhi','Sree']\n",
        "StudentId=['2004','2105','2209','2306']\n",
        "Course=['CSE','ECE','EEE','Civil']\n"
      ],
      "metadata": {
        "id": "g7Kc8BxTVS_X"
      },
      "execution_count": 63,
      "outputs": []
    },
    {
      "cell_type": "code",
      "source": [],
      "metadata": {
        "id": "C7hWaF5ob0mA"
      },
      "execution_count": null,
      "outputs": []
    }
  ]
}